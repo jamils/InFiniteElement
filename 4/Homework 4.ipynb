{
 "cells": [
  {
   "cell_type": "markdown",
   "metadata": {},
   "source": [
    "## Deriving the Weak Form\n",
    "\n",
    "$\\frac{d^2 u}{dx^2} + u - x^2 = 0$\n",
    "\n",
    "Taking from this, we setup:\n",
    "\n",
    "$\\int_a^b w(\\frac{d^2 u}{dx^2} + u) dx = \\int_a^b x^2 w dx$\n",
    "\n",
    "where w and u are both functions of x. Using integration by parts we obtain\n",
    "\n",
    "$w \\frac{du}{dx} \\bigg|_a^b - \\int_a^b(\\frac{dw}{dx} \\frac{du}{dx} + wu) dx = \\int_a^b x^2 w dx$\n",
    "\n",
    "Now we have $B(w,u) = w \\frac{du}{dx} \\bigg|_a^b - \\int_a^b(\\frac{dw}{dx} \\frac{du}{dx} + wu) dx$ and $\\ell(w) = \\int_a^b x^2 w dx$\n",
    "\n",
    "## Converting to N\n",
    "\n",
    "$u(x) \\approx \\sum_{j=1}^2 u_j N_j(x)$ where $x \\in [x_i, x_{i+1}]$\n",
    "\n",
    "$N_1(x) = \\frac{x_{i+1}-x}{h_e}$, and $N_2(x) = \\frac{x - x_i}{h_e}$, where $h_e = \\frac{1}{m} = x_{i+1} - x_i$\n",
    "\n",
    "$s = \\frac{1}{h_e} (2x-(x_i + x_{i+1})) \\ \\rightarrow \\ x = \\frac{1}{2} (h_e s + (x_i + x_{i+1}))$\n",
    "\n",
    "$ds = \\frac{2}{h_e} dx$, and $dx = \\frac{h_e}{2} ds$\n",
    "\n",
    "$N_1(s) = \\frac{1}{2} (1-s)$, $N_2(s) = \\frac{1}{2}(1+s)$; $\\frac{dN_1}{ds} = -\\frac{1}{2}$, and $\\frac{dN_2}{ds} = \\frac{1}{2}$\n",
    "\n",
    "$\\frac{dN_1}{dx} = - \\frac{1}{2} \\frac{2}{h_e}$, $\\frac{dN_2}{dx} = \\frac{1}{2} \\frac{2}{h_e}$\n",
    "\n",
    "$\\longrightarrow \\ \\sum_{j=1}^2 k_{ij} u_j = f_i \\ \\Rightarrow \\ k_{ij} = N_i \\frac{dN_j}{dx} \\bigg|_{x_i}^{x_{i+1}}\n",
    "- \\int_{x_i}^{x_{i+1}} \\big(N_i N_j + \\frac{dN_i}{dx} \\frac{dN_j}{dx}\\big) dx$ and $f_i = \\int_{x_i}^{x_{i+1}} x^2 N_i dx$\n",
    "\n",
    "### $ x \\ \\rightarrow \\ s$\n",
    "$k_{ij} = N_i \\frac{2}{h_e} \\frac{dN_j}{ds} \\bigg|_{-1}^1 - \\int_{-1}^1 \\big(N_i N_j + \\frac{4}{h_e^2} \\frac{dN_i}{ds} \\frac{dN_j}{ds}\\big) \\frac{h_e}{2} ds$\n",
    "\n",
    "$\\beta_i = \\int_{-1}^1 \\frac{1}{4} (h_e s + (x_i + x_{i+1}))^2 N_i^2 \\frac{h_e}{2} ds$ Here I switched from $b$ to $\\beta$ to avoid confusion with the value of the upper bound of the system (where $x \\in [a,b]$)"
   ]
  },
  {
   "cell_type": "code",
   "execution_count": 30,
   "metadata": {},
   "outputs": [],
   "source": [
    "# Plotting packages\n",
    "using Makie\n",
    "using AbstractPlotting\n",
    "using WGLMakie\n",
    "WGLMakie.activate!()\n",
    "\n",
    "# Guassian Quadrature package to compute integrals\n",
    "using QuadGK\n",
    "\n",
    "# Used for math\n",
    "using LinearAlgebra\n",
    "\n",
    "\n",
    "#=\n",
    "This program is written to solve the second-order differential equation:\n",
    "    u\" + u - x² = 0\n",
    "for x ∈ [0,1]\n",
    "=#"
   ]
  },
  {
   "cell_type": "code",
   "execution_count": 75,
   "metadata": {},
   "outputs": [],
   "source": [
    "# ==========\n",
    "# Input parameters\n",
    "a = 0;  # Lower bound\n",
    "b = 1;  # Upper bound\n",
    "k = 2;  # Number of nodes\n",
    "m = 4;  # Number of elements\n",
    "\n",
    "# Boundary conditions\n",
    "    ## Essential (Dirichlet) boundary conditions\n",
    "    xa = 1/2;   # Lower essential boundary condition at u(a)\n",
    "    xb = 1;     # Upper essential boundary condition at u(b)\n",
    "\n",
    "    essential_a = 1;    # 1 for lower essential true, 0 for false.\n",
    "    essential_ab = 0;   # Both essential conditions true\n",
    "\n",
    "    ## Natural (Neumann) boundary conditions\n",
    "    qa = 0;    # Lower natural boundary condition at u'(a)\n",
    "    qb = 4/3;   # Upper natural boundary condition at u'(b)\n",
    "    qᵥ = zeros(m+1);\n",
    "    qᵥ[begin] = -qa;\n",
    "    qᵥ[end] = qb;\n",
    "\n",
    "# =========="
   ]
  },
  {
   "cell_type": "code",
   "execution_count": 76,
   "metadata": {},
   "outputs": [],
   "source": [
    "hₑ = 1/m;   # Step size\n",
    "\n",
    "global u = zeros(m+1);\n",
    "global K = zeros(m+1, m+1);\n",
    "global β = zeros(m+1);\n",
    "\n",
    "global xᵥ = a:hₑ:b; # array of xᵢ node points\n",
    "\n",
    "function N(ℸ, s)\n",
    "    if ℸ == 1\n",
    "        (1 - s) / hₑ;\n",
    "    elseif ℸ == 2\n",
    "        (1 + s)   / hₑ;\n",
    "    end\n",
    "end\n",
    "\n",
    "dN = [-(1/2), (1/2)];"
   ]
  },
  {
   "cell_type": "code",
   "execution_count": 77,
   "metadata": {},
   "outputs": [],
   "source": [
    "# ==========\n",
    "# Solving along each 2-node element\n",
    "\n",
    "for ℵ ∈ 1:m     # Indicie of node, essentially the i for xᵢ\n",
    "    for ℶ ∈ 1:k\n",
    "        for ℷ ∈ 1:k\n",
    "            k₁ = ( (2/hₑ) * N(ℶ, 1) * dN[ℷ] ) - ( (2/hₑ) * N(ℶ, -1) * dN[ℷ] );\n",
    "            # Finds (2/hₑ) Nᵢ dNⱼ/ds from -1 to 1\n",
    "\n",
    "            k₂(s) = ( (N(ℶ, s) * N(ℷ, s)) + (4/(hₑ^2)) * dN[ℶ] * dN[ℷ] ) * (hₑ/2);\n",
    "            ktemp, err = quadgk(s -> k₂(s), -1, 1);\n",
    "            # Solves the integral ∫(he/2)(NᵢNⱼ + (4/hₑ^2) dNᵢ/ds dNⱼ/ds) ds from -1 to -1\n",
    "            # Computes this using a Gaussian quadrature package\n",
    "\n",
    "            K[ℵ+(ℶ-1),ℵ+(ℷ-1)] += (k₁ + ktemp); # Sum the above to get Kᵢⱼ\n",
    "        end\n",
    "    end\n",
    "\n",
    "    β_integrand_1(s) = (1/4) * (hₑ*s + (xᵥ[ℵ] + xᵥ[ℵ+1]))^2 * N(1, s) * (hₑ/2);\n",
    "    βtemp_1, err = quadgk(s -> β_integrand_1(s), -1, 1);\n",
    "    # Computes the integral ∫ (1/4)(hₑs + (xᵢ+xᵢ₊₁))^2 N₁(hₑ/2)ds from -1 to 1\n",
    "\n",
    "    β[ℵ] += βtemp_1;\n",
    "\n",
    "    β_integrand_2(s) = (1/4) * (hₑ*s + (xᵥ[ℵ] + xᵥ[ℵ+1]))^2 * N(2, s) * (hₑ/2);\n",
    "    βtemp_2, err = quadgk(s -> β_integrand_2(s), -1, 1);\n",
    "    # Computes the integral ∫ (1/4)(hₑs + (xᵢ+xᵢ₊₁))^2 N₂(hₑ/2)ds from -1 to 1\n",
    "\n",
    "    β[ℵ+1] = βtemp_2;\n",
    "end"
   ]
  },
  {
   "cell_type": "code",
   "execution_count": 20,
   "metadata": {},
   "outputs": [
    {
     "name": "stdout",
     "output_type": "stream",
     "text": [
      "[12.666666666666668 -8.666666666666666 0.0; -8.666666666666666 25.333333333333336 -8.666666666666666; 0.0 -8.666666666666666 12.666666666666668]\n"
     ]
    }
   ],
   "source": [
    "println(K)"
   ]
  },
  {
   "cell_type": "code",
   "execution_count": 21,
   "metadata": {},
   "outputs": [
    {
     "name": "stdout",
     "output_type": "stream",
     "text": [
      "[0.04166666666666667, 0.5833333333333334, 0.7083333333333333]\n"
     ]
    }
   ],
   "source": [
    "println(β)"
   ]
  },
  {
   "cell_type": "code",
   "execution_count": 78,
   "metadata": {},
   "outputs": [],
   "source": [
    "# ==========\n",
    "# Time to set essential boundary conditions\n",
    "if essential_a == 1\n",
    "    K[begin, :] .= 0;\n",
    "    K[:, begin] .= 0;\n",
    "    K[begin, begin] = xa;\n",
    "    β[begin] = xa;\n",
    "elseif essential_ab == 1\n",
    "    K[begin, :] .= 0;\n",
    "    K[:, begin] .= 0;\n",
    "    K[begin, begin] = xa;\n",
    "    β[begin] = xa;\n",
    "    # ----------\n",
    "    K[end, :] .= 0;\n",
    "    K[:, end] .= 0;\n",
    "    K[end, end] = xb;\n",
    "    β[end] = xb;\n",
    "end\n",
    "\n",
    "f = qᵥ .+ β;\n",
    "\n",
    "u = K \\ f;"
   ]
  },
  {
   "cell_type": "code",
   "execution_count": 23,
   "metadata": {},
   "outputs": [],
   "source": [
    "#Array used for exact solution plot\n",
    "\n",
    "xs = a:0.001:b;\n",
    "lxs = length(xs);\n",
    "u_exact_array = zeros(lxs);"
   ]
  },
  {
   "cell_type": "markdown",
   "metadata": {},
   "source": [
    "## 1. Specified essential (Dirichlet) boundary conditions:\n",
    "\n",
    "$u(x=0) = \\frac{1}{2}$, $u(x=1) = 1$"
   ]
  },
  {
   "cell_type": "code",
   "execution_count": 46,
   "metadata": {},
   "outputs": [],
   "source": [
    "# Exact solution for 1.\n",
    "uₑ₁(x) = -2 + x^2 + (5/2) * cos(x) - (1/2) * (5*cot(1) - 4*csc(1))*sin(x);\n",
    "\n",
    "for i ∈ 1:lxs\n",
    "    u_exact_array[i] = uₑ₁(xs[i]);\n",
    "end"
   ]
  },
  {
   "cell_type": "markdown",
   "metadata": {},
   "source": [
    "### (a) $m=2$"
   ]
  },
  {
   "cell_type": "code",
   "execution_count": 33,
   "metadata": {},
   "outputs": [
    {
     "data": {
      "text/html": [
       "<iframe src=\"http://127.0.0.1:8081/b0ca30a8-94a9-4d80-8536-d777dfb4f618\" id=\"b0ca30a8-94a9-4d80-8536-d777dfb4f618\" style=\"position: relative; display: block; width: 100%; height: 100%; padding: 0; overflow: hidden; border: none\" scrolling=\"no\">\n",
       "</iframe>\n",
       "\n",
       "<script>\n",
       "function resize_jsserve_iframe(event) {\n",
       "   if (event.origin !== \"http://127.0.0.1:8081\") {\n",
       "       return;\n",
       "   }\n",
       "   const uuid = event.data[0];\n",
       "   const width = event.data[1];\n",
       "   const height = event.data[2];\n",
       "   const iframe = document.getElementById(uuid);\n",
       "   if (iframe) {\n",
       "       iframe.style.width = width + \"px\";\n",
       "       iframe.style.height = height + \"px\";\n",
       "   }\n",
       "};\n",
       "if (window.addEventListener) {\n",
       "   window.addEventListener(\"message\", resize_jsserve_iframe, false);\n",
       "} else if (window.attachEvent) {\n",
       "   window.attachEvent(\"onmessage\", resize_jsserve_iframe);\n",
       "}\n",
       "\n",
       "</script>\n",
       "\n"
      ]
     },
     "execution_count": 33,
     "metadata": {},
     "output_type": "execute_result"
    }
   ],
   "source": [
    "scene = lines(xs, u_exact_array, color = :black)\n",
    "lines!(scene, a:hₑ:b, u, color = :red) "
   ]
  },
  {
   "cell_type": "markdown",
   "metadata": {},
   "source": [
    "### (b) $m = 3$"
   ]
  },
  {
   "cell_type": "code",
   "execution_count": 41,
   "metadata": {},
   "outputs": [
    {
     "data": {
      "text/html": [
       "<iframe src=\"http://127.0.0.1:8081/25a948f3-f34b-4d3e-9215-993b88113269\" id=\"25a948f3-f34b-4d3e-9215-993b88113269\" style=\"position: relative; display: block; width: 100%; height: 100%; padding: 0; overflow: hidden; border: none\" scrolling=\"no\">\n",
       "</iframe>\n",
       "\n",
       "<script>\n",
       "function resize_jsserve_iframe(event) {\n",
       "   if (event.origin !== \"http://127.0.0.1:8081\") {\n",
       "       return;\n",
       "   }\n",
       "   const uuid = event.data[0];\n",
       "   const width = event.data[1];\n",
       "   const height = event.data[2];\n",
       "   const iframe = document.getElementById(uuid);\n",
       "   if (iframe) {\n",
       "       iframe.style.width = width + \"px\";\n",
       "       iframe.style.height = height + \"px\";\n",
       "   }\n",
       "};\n",
       "if (window.addEventListener) {\n",
       "   window.addEventListener(\"message\", resize_jsserve_iframe, false);\n",
       "} else if (window.attachEvent) {\n",
       "   window.attachEvent(\"onmessage\", resize_jsserve_iframe);\n",
       "}\n",
       "\n",
       "</script>\n",
       "\n"
      ]
     },
     "execution_count": 41,
     "metadata": {},
     "output_type": "execute_result"
    }
   ],
   "source": [
    "scene = lines(xs, u_exact_array, color = :black)\n",
    "lines!(scene, a:hₑ:b, u, color = :red)"
   ]
  },
  {
   "cell_type": "markdown",
   "metadata": {},
   "source": [
    "### (c) $m = 4$"
   ]
  },
  {
   "cell_type": "code",
   "execution_count": 47,
   "metadata": {},
   "outputs": [
    {
     "data": {
      "text/html": [
       "<iframe src=\"http://127.0.0.1:8081/be8e8e52-d158-44c6-9865-ac81e1843079\" id=\"be8e8e52-d158-44c6-9865-ac81e1843079\" style=\"position: relative; display: block; width: 100%; height: 100%; padding: 0; overflow: hidden; border: none\" scrolling=\"no\">\n",
       "</iframe>\n",
       "\n",
       "<script>\n",
       "function resize_jsserve_iframe(event) {\n",
       "   if (event.origin !== \"http://127.0.0.1:8081\") {\n",
       "       return;\n",
       "   }\n",
       "   const uuid = event.data[0];\n",
       "   const width = event.data[1];\n",
       "   const height = event.data[2];\n",
       "   const iframe = document.getElementById(uuid);\n",
       "   if (iframe) {\n",
       "       iframe.style.width = width + \"px\";\n",
       "       iframe.style.height = height + \"px\";\n",
       "   }\n",
       "};\n",
       "if (window.addEventListener) {\n",
       "   window.addEventListener(\"message\", resize_jsserve_iframe, false);\n",
       "} else if (window.attachEvent) {\n",
       "   window.attachEvent(\"onmessage\", resize_jsserve_iframe);\n",
       "}\n",
       "\n",
       "</script>\n",
       "\n"
      ]
     },
     "execution_count": 47,
     "metadata": {},
     "output_type": "execute_result"
    }
   ],
   "source": [
    "scene = lines(xs, u_exact_array, color = :black)\n",
    "lines!(scene, a:hₑ:b, u, color = :red)"
   ]
  },
  {
   "cell_type": "markdown",
   "metadata": {},
   "source": [
    "## 2. Specified natural (Neumann) boundary conditions:\n",
    "\n",
    "$\\frac{d}{dx} u(x=0) = -1$, $\\frac{d}{dx}u(x=1) = \\frac{4}{3}$"
   ]
  },
  {
   "cell_type": "code",
   "execution_count": 52,
   "metadata": {},
   "outputs": [],
   "source": [
    "# Exact solution for 2.\n",
    "uₑ₂(x) = -2 + x^2 + (1/3) * (2*csc(1) - 3*cot(1))*cos(x) - sin(x);\n",
    "\n",
    "for i ∈ 1:lxs\n",
    "    u_exact_array[i] = uₑ₂(xs[i]);\n",
    "end"
   ]
  },
  {
   "cell_type": "markdown",
   "metadata": {},
   "source": [
    "### (a) $m = 2$"
   ]
  },
  {
   "cell_type": "code",
   "execution_count": 53,
   "metadata": {},
   "outputs": [
    {
     "data": {
      "text/html": [
       "<iframe src=\"http://127.0.0.1:8081/d0cd5c91-cf93-4f06-9943-52a0dc2bacf6\" id=\"d0cd5c91-cf93-4f06-9943-52a0dc2bacf6\" style=\"position: relative; display: block; width: 100%; height: 100%; padding: 0; overflow: hidden; border: none\" scrolling=\"no\">\n",
       "</iframe>\n",
       "\n",
       "<script>\n",
       "function resize_jsserve_iframe(event) {\n",
       "   if (event.origin !== \"http://127.0.0.1:8081\") {\n",
       "       return;\n",
       "   }\n",
       "   const uuid = event.data[0];\n",
       "   const width = event.data[1];\n",
       "   const height = event.data[2];\n",
       "   const iframe = document.getElementById(uuid);\n",
       "   if (iframe) {\n",
       "       iframe.style.width = width + \"px\";\n",
       "       iframe.style.height = height + \"px\";\n",
       "   }\n",
       "};\n",
       "if (window.addEventListener) {\n",
       "   window.addEventListener(\"message\", resize_jsserve_iframe, false);\n",
       "} else if (window.attachEvent) {\n",
       "   window.attachEvent(\"onmessage\", resize_jsserve_iframe);\n",
       "}\n",
       "\n",
       "</script>\n",
       "\n"
      ]
     },
     "execution_count": 53,
     "metadata": {},
     "output_type": "execute_result"
    }
   ],
   "source": [
    "scene = lines(xs, u_exact_array, color = :black)\n",
    "lines!(scene, a:hₑ:b, u, color = :red) "
   ]
  },
  {
   "cell_type": "markdown",
   "metadata": {},
   "source": [
    "### (b) $m = 3$"
   ]
  },
  {
   "cell_type": "code",
   "execution_count": 58,
   "metadata": {},
   "outputs": [
    {
     "data": {
      "text/html": [
       "<iframe src=\"http://127.0.0.1:8081/7146e876-f14b-4010-b223-fd50e7ca7a68\" id=\"7146e876-f14b-4010-b223-fd50e7ca7a68\" style=\"position: relative; display: block; width: 100%; height: 100%; padding: 0; overflow: hidden; border: none\" scrolling=\"no\">\n",
       "</iframe>\n",
       "\n",
       "<script>\n",
       "function resize_jsserve_iframe(event) {\n",
       "   if (event.origin !== \"http://127.0.0.1:8081\") {\n",
       "       return;\n",
       "   }\n",
       "   const uuid = event.data[0];\n",
       "   const width = event.data[1];\n",
       "   const height = event.data[2];\n",
       "   const iframe = document.getElementById(uuid);\n",
       "   if (iframe) {\n",
       "       iframe.style.width = width + \"px\";\n",
       "       iframe.style.height = height + \"px\";\n",
       "   }\n",
       "};\n",
       "if (window.addEventListener) {\n",
       "   window.addEventListener(\"message\", resize_jsserve_iframe, false);\n",
       "} else if (window.attachEvent) {\n",
       "   window.attachEvent(\"onmessage\", resize_jsserve_iframe);\n",
       "}\n",
       "\n",
       "</script>\n",
       "\n"
      ]
     },
     "execution_count": 58,
     "metadata": {},
     "output_type": "execute_result"
    }
   ],
   "source": [
    "scene = lines(xs, u_exact_array, color = :black)\n",
    "lines!(scene, a:hₑ:b, u, color = :red) "
   ]
  },
  {
   "cell_type": "markdown",
   "metadata": {},
   "source": [
    "### (c) $m = 4$"
   ]
  },
  {
   "cell_type": "code",
   "execution_count": 63,
   "metadata": {},
   "outputs": [
    {
     "data": {
      "text/html": [
       "<iframe src=\"http://127.0.0.1:8081/cb771d43-7d05-4433-8c86-4924db49f295\" id=\"cb771d43-7d05-4433-8c86-4924db49f295\" style=\"position: relative; display: block; width: 100%; height: 100%; padding: 0; overflow: hidden; border: none\" scrolling=\"no\">\n",
       "</iframe>\n",
       "\n",
       "<script>\n",
       "function resize_jsserve_iframe(event) {\n",
       "   if (event.origin !== \"http://127.0.0.1:8081\") {\n",
       "       return;\n",
       "   }\n",
       "   const uuid = event.data[0];\n",
       "   const width = event.data[1];\n",
       "   const height = event.data[2];\n",
       "   const iframe = document.getElementById(uuid);\n",
       "   if (iframe) {\n",
       "       iframe.style.width = width + \"px\";\n",
       "       iframe.style.height = height + \"px\";\n",
       "   }\n",
       "};\n",
       "if (window.addEventListener) {\n",
       "   window.addEventListener(\"message\", resize_jsserve_iframe, false);\n",
       "} else if (window.attachEvent) {\n",
       "   window.attachEvent(\"onmessage\", resize_jsserve_iframe);\n",
       "}\n",
       "\n",
       "</script>\n",
       "\n"
      ]
     },
     "execution_count": 63,
     "metadata": {},
     "output_type": "execute_result"
    }
   ],
   "source": [
    "scene = lines(xs, u_exact_array, color = :black)\n",
    "lines!(scene, a:hₑ:b, u, color = :red) "
   ]
  },
  {
   "cell_type": "markdown",
   "metadata": {},
   "source": [
    "## 3. Specified mixed (essential and natural) boundary conditions:\n",
    "\n",
    "$u(x=0) = \\frac{1}{2}$, $\\frac{d}{dx} u(x=1) = \\frac{4}{3}$"
   ]
  },
  {
   "cell_type": "code",
   "execution_count": 68,
   "metadata": {},
   "outputs": [],
   "source": [
    "# Exact solution for 3.\n",
    "uₑ₃(x) = -2 + x^2 + (5/2) *cos(x) - (1/6)*(4-15*sin(1))*sec(1)*sin(x);\n",
    "\n",
    "for i ∈ 1:lxs\n",
    "    u_exact_array[i] = uₑ₃(xs[i]);\n",
    "end"
   ]
  },
  {
   "cell_type": "markdown",
   "metadata": {},
   "source": [
    "### (a) $m = 2$"
   ]
  },
  {
   "cell_type": "code",
   "execution_count": 69,
   "metadata": {},
   "outputs": [
    {
     "data": {
      "text/html": [
       "<iframe src=\"http://127.0.0.1:8081/13fdeba6-6df8-4d72-9043-96f27df74949\" id=\"13fdeba6-6df8-4d72-9043-96f27df74949\" style=\"position: relative; display: block; width: 100%; height: 100%; padding: 0; overflow: hidden; border: none\" scrolling=\"no\">\n",
       "</iframe>\n",
       "\n",
       "<script>\n",
       "function resize_jsserve_iframe(event) {\n",
       "   if (event.origin !== \"http://127.0.0.1:8081\") {\n",
       "       return;\n",
       "   }\n",
       "   const uuid = event.data[0];\n",
       "   const width = event.data[1];\n",
       "   const height = event.data[2];\n",
       "   const iframe = document.getElementById(uuid);\n",
       "   if (iframe) {\n",
       "       iframe.style.width = width + \"px\";\n",
       "       iframe.style.height = height + \"px\";\n",
       "   }\n",
       "};\n",
       "if (window.addEventListener) {\n",
       "   window.addEventListener(\"message\", resize_jsserve_iframe, false);\n",
       "} else if (window.attachEvent) {\n",
       "   window.attachEvent(\"onmessage\", resize_jsserve_iframe);\n",
       "}\n",
       "\n",
       "</script>\n",
       "\n"
      ]
     },
     "execution_count": 69,
     "metadata": {},
     "output_type": "execute_result"
    }
   ],
   "source": [
    "scene = lines(xs, u_exact_array, color = :black)\n",
    "lines!(scene, a:hₑ:b, u, color = :red) "
   ]
  },
  {
   "cell_type": "markdown",
   "metadata": {},
   "source": [
    "### (b) $m = 3$"
   ]
  },
  {
   "cell_type": "code",
   "execution_count": 74,
   "metadata": {},
   "outputs": [
    {
     "data": {
      "text/html": [
       "<iframe src=\"http://127.0.0.1:8081/85874360-9463-4962-9996-93c3033f15f6\" id=\"85874360-9463-4962-9996-93c3033f15f6\" style=\"position: relative; display: block; width: 100%; height: 100%; padding: 0; overflow: hidden; border: none\" scrolling=\"no\">\n",
       "</iframe>\n",
       "\n",
       "<script>\n",
       "function resize_jsserve_iframe(event) {\n",
       "   if (event.origin !== \"http://127.0.0.1:8081\") {\n",
       "       return;\n",
       "   }\n",
       "   const uuid = event.data[0];\n",
       "   const width = event.data[1];\n",
       "   const height = event.data[2];\n",
       "   const iframe = document.getElementById(uuid);\n",
       "   if (iframe) {\n",
       "       iframe.style.width = width + \"px\";\n",
       "       iframe.style.height = height + \"px\";\n",
       "   }\n",
       "};\n",
       "if (window.addEventListener) {\n",
       "   window.addEventListener(\"message\", resize_jsserve_iframe, false);\n",
       "} else if (window.attachEvent) {\n",
       "   window.attachEvent(\"onmessage\", resize_jsserve_iframe);\n",
       "}\n",
       "\n",
       "</script>\n",
       "\n"
      ]
     },
     "execution_count": 74,
     "metadata": {},
     "output_type": "execute_result"
    }
   ],
   "source": [
    "scene = lines(xs, u_exact_array, color = :black)\n",
    "lines!(scene, a:hₑ:b, u, color = :red) "
   ]
  },
  {
   "cell_type": "markdown",
   "metadata": {},
   "source": [
    "### (c) $m = 4$"
   ]
  },
  {
   "cell_type": "code",
   "execution_count": 79,
   "metadata": {},
   "outputs": [
    {
     "data": {
      "text/html": [
       "<iframe src=\"http://127.0.0.1:8081/d5b46c29-cd11-47b9-97bd-69cb1c7e54fd\" id=\"d5b46c29-cd11-47b9-97bd-69cb1c7e54fd\" style=\"position: relative; display: block; width: 100%; height: 100%; padding: 0; overflow: hidden; border: none\" scrolling=\"no\">\n",
       "</iframe>\n",
       "\n",
       "<script>\n",
       "function resize_jsserve_iframe(event) {\n",
       "   if (event.origin !== \"http://127.0.0.1:8081\") {\n",
       "       return;\n",
       "   }\n",
       "   const uuid = event.data[0];\n",
       "   const width = event.data[1];\n",
       "   const height = event.data[2];\n",
       "   const iframe = document.getElementById(uuid);\n",
       "   if (iframe) {\n",
       "       iframe.style.width = width + \"px\";\n",
       "       iframe.style.height = height + \"px\";\n",
       "   }\n",
       "};\n",
       "if (window.addEventListener) {\n",
       "   window.addEventListener(\"message\", resize_jsserve_iframe, false);\n",
       "} else if (window.attachEvent) {\n",
       "   window.attachEvent(\"onmessage\", resize_jsserve_iframe);\n",
       "}\n",
       "\n",
       "</script>\n",
       "\n"
      ]
     },
     "execution_count": 79,
     "metadata": {},
     "output_type": "execute_result"
    },
    {
     "name": "stderr",
     "output_type": "stream",
     "text": [
      "An exception was thrown in JS: TypeError: Cannot read property 'getContext' of null\n",
      "Additional message: Error during running onjs callback\n",
      "Callback:\n",
      "function setup([scenes, duplicates]){\n",
      "    const canvas = (document.querySelector('[data-jscall-id=\"25\"]'))\n",
      "    const renderer = WGLMakie.threejs_module(canvas, '2089797558891523662', 960, 540)\n",
      "    WGLMakie.set_duplicate_references(duplicates)\n",
      "    const three_scenes = scenes.map(WGLMakie.deserialize_scene)\n",
      "    const cam = new THREE.PerspectiveCamera(45, 1, 0, 100)\n",
      "    console.log(three_scenes)\n",
      "    WGLMakie.start_renderloop(renderer, three_scenes, cam)\n",
      "\n",
      "    function get_plot(plot_uuid) {\n",
      "        for (const idx in three_scenes) {\n",
      "            const plot = three_scenes[idx].getObjectByName(plot_uuid)\n",
      "            if (plot) {\n",
      "                return plot\n",
      "            }\n",
      "        }\n",
      "        return undefined;\n",
      "    }\n",
      "\n",
      "    function add_plot(scene, plot) {\n",
      "        const mesh = WGLMakie.deserialize_plot(plot);\n",
      "    }\n",
      "    const context = {\n",
      "        three_scenes,\n",
      "        add_plot,\n",
      "        get_plot,\n",
      "        renderer\n",
      "    }\n",
      "    put_on_heap(\"13\", context);\n",
      "}\n",
      "Stack trace:\n",
      "    TypeError: Cannot read property 'getContext' of null\n",
      "        at Object.threejs_module (C:\\Users\\Jamil\\.julia\\packages\\WGLMakie\\QIWts\\src\\wglmakie.js:509)\n",
      "        at Array.setup (eval at process_message (C:\\Users\\Jamil\\.julia\\packages\\JSServe\\9Z6uA\\js_dependencies\\core.js:416), <anonymous>:3:31)\n",
      "        at run_js_callbacks (C:\\Users\\Jamil\\.julia\\packages\\JSServe\\9Z6uA\\js_dependencies\\core.js:196)\n",
      "        at process_message (C:\\Users\\Jamil\\.julia\\packages\\JSServe\\9Z6uA\\js_dependencies\\core.js:409)\n",
      "        at WebSocket.websocket.onmessage (C:\\Users\\Jamil\\.julia\\packages\\JSServe\\9Z6uA\\js_dependencies\\core.js:515)\n",
      "An exception was thrown in JS: TypeError: Cannot read property 'getContext' of null\n",
      "Additional message: Error during running onjs callback\n",
      "Callback:\n",
      "function setup([scenes, duplicates]){\n",
      "    const canvas = (document.querySelector('[data-jscall-id=\"30\"]'))\n",
      "    const renderer = WGLMakie.threejs_module(canvas, '13890318878687345268', 960, 540)\n",
      "    WGLMakie.set_duplicate_references(duplicates)\n",
      "    const three_scenes = scenes.map(WGLMakie.deserialize_scene)\n",
      "    const cam = new THREE.PerspectiveCamera(45, 1, 0, 100)\n",
      "    console.log(three_scenes)\n",
      "    WGLMakie.start_renderloop(renderer, three_scenes, cam)\n",
      "\n",
      "    function get_plot(plot_uuid) {\n",
      "        for (const idx in three_scenes) {\n",
      "            const plot = three_scenes[idx].getObjectByName(plot_uuid)\n",
      "            if (plot) {\n",
      "                return plot\n",
      "            }\n",
      "        }\n",
      "        return undefined;\n",
      "    }\n",
      "\n",
      "    function add_plot(scene, plot) {\n",
      "        const mesh = WGLMakie.deserialize_plot(plot);\n",
      "    }\n",
      "    const context = {\n",
      "        three_scenes,\n",
      "        add_plot,\n",
      "        get_plot,\n",
      "        renderer\n",
      "    }\n",
      "    put_on_heap(\"18\", context);\n",
      "}\n",
      "Stack trace:\n",
      "    TypeError: Cannot read property 'getContext' of null\n",
      "        at Object.threejs_module (C:\\Users\\Jamil\\.julia\\packages\\WGLMakie\\QIWts\\src\\wglmakie.js:509)\n",
      "        at Array.setup (eval at process_message (C:\\Users\\Jamil\\.julia\\packages\\JSServe\\9Z6uA\\js_dependencies\\core.js:416), <anonymous>:3:31)\n",
      "        at run_js_callbacks (C:\\Users\\Jamil\\.julia\\packages\\JSServe\\9Z6uA\\js_dependencies\\core.js:196)\n",
      "        at process_message (C:\\Users\\Jamil\\.julia\\packages\\JSServe\\9Z6uA\\js_dependencies\\core.js:409)\n",
      "        at WebSocket.websocket.onmessage (C:\\Users\\Jamil\\.julia\\packages\\JSServe\\9Z6uA\\js_dependencies\\core.js:515)\n",
      "An exception was thrown in JS: TypeError: Cannot read property 'getContext' of null\n",
      "Additional message: Error during running onjs callback\n",
      "Callback:\n",
      "function setup([scenes, duplicates]){\n",
      "    const canvas = (document.querySelector('[data-jscall-id=\"26\"]'))\n",
      "    const renderer = WGLMakie.threejs_module(canvas, '9126960244801255325', 960, 540)\n",
      "    WGLMakie.set_duplicate_references(duplicates)\n",
      "    const three_scenes = scenes.map(WGLMakie.deserialize_scene)\n",
      "    const cam = new THREE.PerspectiveCamera(45, 1, 0, 100)\n",
      "    console.log(three_scenes)\n",
      "    WGLMakie.start_renderloop(renderer, three_scenes, cam)\n",
      "\n",
      "    function get_plot(plot_uuid) {\n",
      "        for (const idx in three_scenes) {\n",
      "            const plot = three_scenes[idx].getObjectByName(plot_uuid)\n",
      "            if (plot) {\n",
      "                return plot\n",
      "            }\n",
      "        }\n",
      "        return undefined;\n",
      "    }\n",
      "\n",
      "    function add_plot(scene, plot) {\n",
      "        const mesh = WGLMakie.deserialize_plot(plot);\n",
      "    }\n",
      "    const context = {\n",
      "        three_scenes,\n",
      "        add_plot,\n",
      "        get_plot,\n",
      "        renderer\n",
      "    }\n",
      "    put_on_heap(\"14\", context);\n",
      "}\n",
      "Stack trace:\n",
      "    TypeError: Cannot read property 'getContext' of null\n",
      "        at Object.threejs_module (C:\\Users\\Jamil\\.julia\\packages\\WGLMakie\\QIWts\\src\\wglmakie.js:509)\n",
      "        at Array.setup (eval at process_message (C:\\Users\\Jamil\\.julia\\packages\\JSServe\\9Z6uA\\js_dependencies\\core.js:416), <anonymous>:3:31)\n",
      "        at run_js_callbacks (C:\\Users\\Jamil\\.julia\\packages\\JSServe\\9Z6uA\\js_dependencies\\core.js:196)\n",
      "        at process_message (C:\\Users\\Jamil\\.julia\\packages\\JSServe\\9Z6uA\\js_dependencies\\core.js:409)\n",
      "        at WebSocket.websocket.onmessage (C:\\Users\\Jamil\\.julia\\packages\\JSServe\\9Z6uA\\js_dependencies\\core.js:515)\n",
      "An exception was thrown in JS: TypeError: Cannot read property 'getContext' of null\n",
      "Additional message: Error during running onjs callback\n",
      "Callback:\n",
      "function setup([scenes, duplicates]){\n",
      "    const canvas = (document.querySelector('[data-jscall-id=\"27\"]'))\n",
      "    const renderer = WGLMakie.threejs_module(canvas, '10329232030151992152', 960, 540)\n",
      "    WGLMakie.set_duplicate_references(duplicates)\n",
      "    const three_scenes = scenes.map(WGLMakie.deserialize_scene)\n",
      "    const cam = new THREE.PerspectiveCamera(45, 1, 0, 100)\n",
      "    console.log(three_scenes)\n",
      "    WGLMakie.start_renderloop(renderer, three_scenes, cam)\n",
      "\n",
      "    function get_plot(plot_uuid) {\n",
      "        for (const idx in three_scenes) {\n",
      "            const plot = three_scenes[idx].getObjectByName(plot_uuid)\n",
      "            if (plot) {\n",
      "                return plot\n",
      "            }\n",
      "        }\n",
      "        return undefined;\n",
      "    }\n",
      "\n",
      "    function add_plot(scene, plot) {\n",
      "        const mesh = WGLMakie.deserialize_plot(plot);\n",
      "    }\n",
      "    const context = {\n",
      "        three_scenes,\n",
      "        add_plot,\n",
      "        get_plot,\n",
      "        renderer\n",
      "    }\n",
      "    put_on_heap(\"15\", context);\n",
      "}\n",
      "Stack trace:\n",
      "    TypeError: Cannot read property 'getContext' of null\n",
      "        at Object.threejs_module (C:\\Users\\Jamil\\.julia\\packages\\WGLMakie\\QIWts\\src\\wglmakie.js:509)\n",
      "        at Array.setup (eval at process_message (C:\\Users\\Jamil\\.julia\\packages\\JSServe\\9Z6uA\\js_dependencies\\core.js:416), <anonymous>:3:31)\n",
      "        at run_js_callbacks (C:\\Users\\Jamil\\.julia\\packages\\JSServe\\9Z6uA\\js_dependencies\\core.js:196)\n",
      "        at process_message (C:\\Users\\Jamil\\.julia\\packages\\JSServe\\9Z6uA\\js_dependencies\\core.js:409)\n",
      "        at WebSocket.websocket.onmessage (C:\\Users\\Jamil\\.julia\\packages\\JSServe\\9Z6uA\\js_dependencies\\core.js:515)\n",
      "An exception was thrown in JS: TypeError: Cannot read property 'getContext' of null\n",
      "Additional message: Error during running onjs callback\n",
      "Callback:\n",
      "function setup([scenes, duplicates]){\n",
      "    const canvas = (document.querySelector('[data-jscall-id=\"29\"]'))\n",
      "    const renderer = WGLMakie.threejs_module(canvas, '15336663835152798218', 960, 540)\n",
      "    WGLMakie.set_duplicate_references(duplicates)\n",
      "    const three_scenes = scenes.map(WGLMakie.deserialize_scene)\n",
      "    const cam = new THREE.PerspectiveCamera(45, 1, 0, 100)\n",
      "    console.log(three_scenes)\n",
      "    WGLMakie.start_renderloop(renderer, three_scenes, cam)\n",
      "\n",
      "    function get_plot(plot_uuid) {\n",
      "        for (const idx in three_scenes) {\n",
      "            const plot = three_scenes[idx].getObjectByName(plot_uuid)\n",
      "            if (plot) {\n",
      "                return plot\n",
      "            }\n",
      "        }\n",
      "        return undefined;\n",
      "    }\n",
      "\n",
      "    function add_plot(scene, plot) {\n",
      "        const mesh = WGLMakie.deserialize_plot(plot);\n",
      "    }\n",
      "    const context = {\n",
      "        three_scenes,\n",
      "        add_plot,\n",
      "        get_plot,\n",
      "        renderer\n",
      "    }\n",
      "    put_on_heap(\"17\", context);\n",
      "}\n",
      "Stack trace:\n",
      "    TypeError: Cannot read property 'getContext' of null\n",
      "        at Object.threejs_module (C:\\Users\\Jamil\\.julia\\packages\\WGLMakie\\QIWts\\src\\wglmakie.js:509)\n",
      "        at Array.setup (eval at process_message (C:\\Users\\Jamil\\.julia\\packages\\JSServe\\9Z6uA\\js_dependencies\\core.js:416), <anonymous>:3:31)\n",
      "        at run_js_callbacks (C:\\Users\\Jamil\\.julia\\packages\\JSServe\\9Z6uA\\js_dependencies\\core.js:196)\n",
      "        at process_message (C:\\Users\\Jamil\\.julia\\packages\\JSServe\\9Z6uA\\js_dependencies\\core.js:409)\n",
      "        at WebSocket.websocket.onmessage (C:\\Users\\Jamil\\.julia\\packages\\JSServe\\9Z6uA\\js_dependencies\\core.js:515)\n",
      "An exception was thrown in JS: TypeError: Cannot read property 'getContext' of null\n",
      "Additional message: Error during running onjs callback\n",
      "Callback:\n",
      "function setup([scenes, duplicates]){\n",
      "    const canvas = (document.querySelector('[data-jscall-id=\"28\"]'))\n",
      "    const renderer = WGLMakie.threejs_module(canvas, '302972546207711564', 960, 540)\n",
      "    WGLMakie.set_duplicate_references(duplicates)\n",
      "    const three_scenes = scenes.map(WGLMakie.deserialize_scene)\n",
      "    const cam = new THREE.PerspectiveCamera(45, 1, 0, 100)\n",
      "    console.log(three_scenes)\n",
      "    WGLMakie.start_renderloop(renderer, three_scenes, cam)\n",
      "\n",
      "    function get_plot(plot_uuid) {\n",
      "        for (const idx in three_scenes) {\n",
      "            const plot = three_scenes[idx].getObjectByName(plot_uuid)\n",
      "            if (plot) {\n",
      "                return plot\n",
      "            }\n",
      "        }\n",
      "        return undefined;\n",
      "    }\n",
      "\n",
      "    function add_plot(scene, plot) {\n",
      "        const mesh = WGLMakie.deserialize_plot(plot);\n",
      "    }\n",
      "    const context = {\n",
      "        three_scenes,\n",
      "        add_plot,\n",
      "        get_plot,\n",
      "        renderer\n",
      "    }\n",
      "    put_on_heap(\"16\", context);\n",
      "}\n",
      "Stack trace:\n",
      "    TypeError: Cannot read property 'getContext' of null\n",
      "        at Object.threejs_module (C:\\Users\\Jamil\\.julia\\packages\\WGLMakie\\QIWts\\src\\wglmakie.js:509)\n",
      "        at Array.setup (eval at process_message (C:\\Users\\Jamil\\.julia\\packages\\JSServe\\9Z6uA\\js_dependencies\\core.js:416), <anonymous>:3:31)\n",
      "        at run_js_callbacks (C:\\Users\\Jamil\\.julia\\packages\\JSServe\\9Z6uA\\js_dependencies\\core.js:196)\n",
      "        at process_message (C:\\Users\\Jamil\\.julia\\packages\\JSServe\\9Z6uA\\js_dependencies\\core.js:409)\n",
      "        at WebSocket.websocket.onmessage (C:\\Users\\Jamil\\.julia\\packages\\JSServe\\9Z6uA\\js_dependencies\\core.js:515)\n",
      "An exception was thrown in JS: TypeError: Cannot read property 'getContext' of null\n",
      "Additional message: Error during running onjs callback\n",
      "Callback:\n",
      "function setup([scenes, duplicates]){\n",
      "    const canvas = (document.querySelector('[data-jscall-id=\"37\"]'))\n",
      "    const renderer = WGLMakie.threejs_module(canvas, '12127103144698642656', 960, 540)\n",
      "    WGLMakie.set_duplicate_references(duplicates)\n",
      "    const three_scenes = scenes.map(WGLMakie.deserialize_scene)\n",
      "    const cam = new THREE.PerspectiveCamera(45, 1, 0, 100)\n",
      "    console.log(three_scenes)\n",
      "    WGLMakie.start_renderloop(renderer, three_scenes, cam)\n",
      "\n",
      "    function get_plot(plot_uuid) {\n",
      "        for (const idx in three_scenes) {\n",
      "            const plot = three_scenes[idx].getObjectByName(plot_uuid)\n",
      "            if (plot) {\n",
      "                return plot\n",
      "            }\n",
      "        }\n",
      "        return undefined;\n",
      "    }\n",
      "\n",
      "    function add_plot(scene, plot) {\n",
      "        const mesh = WGLMakie.deserialize_plot(plot);\n",
      "    }\n",
      "    const context = {\n",
      "        three_scenes,\n",
      "        add_plot,\n",
      "        get_plot,\n",
      "        renderer\n",
      "    }\n",
      "    put_on_heap(\"19\", context);\n",
      "}\n",
      "Stack trace:\n",
      "    TypeError: Cannot read property 'getContext' of null\n",
      "        at Object.threejs_module (C:\\Users\\Jamil\\.julia\\packages\\WGLMakie\\QIWts\\src\\wglmakie.js:509)\n",
      "        at Array.setup (eval at process_message (C:\\Users\\Jamil\\.julia\\packages\\JSServe\\9Z6uA\\js_dependencies\\core.js:416), <anonymous>:3:31)\n",
      "        at run_js_callbacks (C:\\Users\\Jamil\\.julia\\packages\\JSServe\\9Z6uA\\js_dependencies\\core.js:196)\n",
      "        at process_message (C:\\Users\\Jamil\\.julia\\packages\\JSServe\\9Z6uA\\js_dependencies\\core.js:409)\n",
      "        at WebSocket.websocket.onmessage (C:\\Users\\Jamil\\.julia\\packages\\JSServe\\9Z6uA\\js_dependencies\\core.js:515)\n",
      "An exception was thrown in JS: TypeError: Cannot read property 'getContext' of null\n",
      "Additional message: Error during running onjs callback\n",
      "Callback:\n",
      "function setup([scenes, duplicates]){\n",
      "    const canvas = (document.querySelector('[data-jscall-id=\"38\"]'))\n",
      "    const renderer = WGLMakie.threejs_module(canvas, '18360893076535065351', 960, 540)\n",
      "    WGLMakie.set_duplicate_references(duplicates)\n",
      "    const three_scenes = scenes.map(WGLMakie.deserialize_scene)\n",
      "    const cam = new THREE.PerspectiveCamera(45, 1, 0, 100)\n",
      "    console.log(three_scenes)\n",
      "    WGLMakie.start_renderloop(renderer, three_scenes, cam)\n",
      "\n",
      "    function get_plot(plot_uuid) {\n",
      "        for (const idx in three_scenes) {\n",
      "            const plot = three_scenes[idx].getObjectByName(plot_uuid)\n",
      "            if (plot) {\n",
      "                return plot\n",
      "            }\n",
      "        }\n",
      "        return undefined;\n",
      "    }\n",
      "\n",
      "    function add_plot(scene, plot) {\n",
      "        const mesh = WGLMakie.deserialize_plot(plot);\n",
      "    }\n",
      "    const context = {\n",
      "        three_scenes,\n",
      "        add_plot,\n",
      "        get_plot,\n",
      "        renderer\n",
      "    }\n",
      "    put_on_heap(\"20\", context);\n",
      "}\n",
      "Stack trace:\n",
      "    TypeError: Cannot read property 'getContext' of null\n",
      "        at Object.threejs_module (C:\\Users\\Jamil\\.julia\\packages\\WGLMakie\\QIWts\\src\\wglmakie.js:509)\n",
      "        at Array.setup (eval at process_message (C:\\Users\\Jamil\\.julia\\packages\\JSServe\\9Z6uA\\js_dependencies\\core.js:416), <anonymous>:3:31)\n",
      "        at run_js_callbacks (C:\\Users\\Jamil\\.julia\\packages\\JSServe\\9Z6uA\\js_dependencies\\core.js:196)\n",
      "        at process_message (C:\\Users\\Jamil\\.julia\\packages\\JSServe\\9Z6uA\\js_dependencies\\core.js:409)\n",
      "        at WebSocket.websocket.onmessage (C:\\Users\\Jamil\\.julia\\packages\\JSServe\\9Z6uA\\js_dependencies\\core.js:515)\n",
      "An exception was thrown in JS: TypeError: Cannot read property 'getContext' of null\n",
      "Additional message: Error during running onjs callback\n",
      "Callback:\n",
      "function setup([scenes, duplicates]){\n",
      "    const canvas = (document.querySelector('[data-jscall-id=\"39\"]'))\n",
      "    const renderer = WGLMakie.threejs_module(canvas, '17632696714913368060', 960, 540)\n",
      "    WGLMakie.set_duplicate_references(duplicates)\n",
      "    const three_scenes = scenes.map(WGLMakie.deserialize_scene)\n",
      "    const cam = new THREE.PerspectiveCamera(45, 1, 0, 100)\n",
      "    console.log(three_scenes)\n",
      "    WGLMakie.start_renderloop(renderer, three_scenes, cam)\n",
      "\n",
      "    function get_plot(plot_uuid) {\n",
      "        for (const idx in three_scenes) {\n",
      "            const plot = three_scenes[idx].getObjectByName(plot_uuid)\n",
      "            if (plot) {\n",
      "                return plot\n",
      "            }\n",
      "        }\n",
      "        return undefined;\n",
      "    }\n",
      "\n",
      "    function add_plot(scene, plot) {\n",
      "        const mesh = WGLMakie.deserialize_plot(plot);\n",
      "    }\n",
      "    const context = {\n",
      "        three_scenes,\n",
      "        add_plot,\n",
      "        get_plot,\n",
      "        renderer\n",
      "    }\n",
      "    put_on_heap(\"21\", context);\n",
      "}\n",
      "Stack trace:\n",
      "    TypeError: Cannot read property 'getContext' of null\n",
      "        at Object.threejs_module (C:\\Users\\Jamil\\.julia\\packages\\WGLMakie\\QIWts\\src\\wglmakie.js:509)\n",
      "        at Array.setup (eval at process_message (C:\\Users\\Jamil\\.julia\\packages\\JSServe\\9Z6uA\\js_dependencies\\core.js:416), <anonymous>:3:31)\n",
      "        at run_js_callbacks (C:\\Users\\Jamil\\.julia\\packages\\JSServe\\9Z6uA\\js_dependencies\\core.js:196)\n",
      "        at process_message (C:\\Users\\Jamil\\.julia\\packages\\JSServe\\9Z6uA\\js_dependencies\\core.js:409)\n",
      "        at WebSocket.websocket.onmessage (C:\\Users\\Jamil\\.julia\\packages\\JSServe\\9Z6uA\\js_dependencies\\core.js:515)\n"
     ]
    }
   ],
   "source": [
    "scene = lines(xs, u_exact_array, color = :black)\n",
    "lines!(scene, a:hₑ:b, u, color = :red)"
   ]
  },
  {
   "cell_type": "markdown",
   "metadata": {},
   "source": [
    "### Discussion\n",
    "\n",
    "The data from all of my runs does not match any of the exact solutions. Only for the essential boundary conditions for problem 1 did they actually hold. I am unsure of exactly what I am doing wrong, whether it is in the actual derivation at the top, or in the setup of the program itself. "
   ]
  },
  {
   "cell_type": "code",
   "execution_count": null,
   "metadata": {},
   "outputs": [],
   "source": []
  }
 ],
 "metadata": {
  "kernelspec": {
   "display_name": "Julia 1.5.2",
   "language": "julia",
   "name": "julia-1.5"
  },
  "language_info": {
   "file_extension": ".jl",
   "mimetype": "application/julia",
   "name": "julia",
   "version": "1.5.2"
  }
 },
 "nbformat": 4,
 "nbformat_minor": 4
}
